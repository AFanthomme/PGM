{
 "cells": [
  {
   "cell_type": "code",
   "execution_count": 1,
   "metadata": {
    "collapsed": false
   },
   "outputs": [],
   "source": [
    "from EM_procedure import *\n",
    "import numpy as np\n",
    "import dynamical_systems as dyn\n",
    "import tqdm\n",
    "import matplotlib.pyplot as plt"
   ]
  },
  {
   "cell_type": "code",
   "execution_count": 2,
   "metadata": {
    "collapsed": false
   },
   "outputs": [],
   "source": [
    "def sin_flow(x):\n",
    "    return np.sin(np.pi*x)\n",
    "\n",
    "def no_drive(n_hidden):\n",
    "    return lambda _: np.zeros(n_hidden)\n",
    "\n",
    "dummy_obs = lambda x: x\n",
    "\n",
    "d = dyn.dynamical_system(n_hidden=1, n_inputs=0, n_outputs=3, flow_function=sin_flow, driving_function=no_drive(1),\n",
    "                             output_function=dummy_obs)"
   ]
  },
  {
   "cell_type": "code",
   "execution_count": 3,
   "metadata": {
    "collapsed": false
   },
   "outputs": [
    {
     "name": "stdout",
     "output_type": "stream",
     "text": [
      "[-0.13056466] []\n",
      "[-0.13056466]\n",
      "[-0.3800208] []\n",
      "[-0.3800208]\n",
      "[-0.90720566] []\n",
      "[-0.90720566]\n",
      "[-0.31937328] []\n",
      "[-0.31937328]\n",
      "[-0.79164938] []\n",
      "[-0.79164938]\n",
      "[-0.71063654] []\n",
      "[-0.71063654]\n",
      "[-0.77466954] []\n",
      "[-0.77466954]\n",
      "[-0.61224485] []\n",
      "[-0.61224485]\n",
      "[-0.95517122] []\n",
      "[-0.95517122]\n",
      "[-0.16664304] []\n",
      "[-0.16664304]\n",
      "[-0.53408432] []\n",
      "[-0.53408432]\n",
      "[-1.04410309] []\n",
      "[-1.04410309]\n",
      "[0.14841698] []\n",
      "[0.14841698]\n",
      "[0.36374775] []\n",
      "[0.36374775]\n",
      "[0.83844866] []\n",
      "[0.83844866]\n",
      "[0.49741793] []\n",
      "[0.49741793]\n",
      "[1.06655088] []\n",
      "[1.06655088]\n",
      "[-0.21430404] []\n",
      "[-0.21430404]\n",
      "[-0.65815555] []\n",
      "[-0.65815555]\n",
      "[-0.88614722] []\n",
      "[-0.88614722]\n",
      "[-0.35944419] []\n",
      "[-0.35944419]\n",
      "[-0.86218596] []\n",
      "[-0.86218596]\n",
      "[-0.46507704] []\n",
      "[-0.46507704]\n",
      "[-0.9744323] []\n",
      "[-0.9744323]\n",
      "[-0.02779989] []\n",
      "[-0.02779989]\n",
      "[-0.08531523] []\n",
      "[-0.08531523]\n",
      "[-0.28597832] []\n",
      "[-0.28597832]\n",
      "[-0.7901748] []\n",
      "[-0.7901748]\n",
      "[-0.67347226] []\n",
      "[-0.67347226]\n",
      "[-0.88137185] []\n",
      "[-0.88137185]\n",
      "[-0.37789153] []\n",
      "[-0.37789153]\n",
      "[-0.93744179] []\n",
      "[-0.93744179]\n",
      "[-0.25835019] []\n",
      "[-0.25835019]\n",
      "[-0.83312483] []\n",
      "[-0.83312483]\n",
      "[-0.53758519] []\n",
      "[-0.53758519]\n",
      "[-0.93571532] []\n",
      "[-0.93571532]\n",
      "[-0.15672571] []\n",
      "[-0.15672571]\n",
      "[-0.50281304] []\n",
      "[-0.50281304]\n",
      "[-1.00444605] []\n",
      "[-1.00444605]\n",
      "[0.00094505] []\n",
      "[0.00094505]\n",
      "[-0.04988884] []\n",
      "[-0.04988884]\n",
      "[-0.06271709] []\n",
      "[-0.06271709]\n",
      "[-0.2512678] []\n",
      "[-0.2512678]\n",
      "[-0.72005419] []\n",
      "[-0.72005419]\n",
      "[-0.80927546] []\n",
      "[-0.80927546]\n",
      "[-0.59003209] []\n",
      "[-0.59003209]\n",
      "[-0.99074829] []\n",
      "[-0.99074829]\n",
      "[-0.05819863] []\n",
      "[-0.05819863]\n",
      "[-0.09562882] []\n",
      "[-0.09562882]\n",
      "[-0.24409658] []\n",
      "[-0.24409658]\n",
      "[-0.62895613] []\n",
      "[-0.62895613]\n",
      "[-0.91045447] []\n",
      "[-0.91045447]\n",
      "[-0.26525903] []\n",
      "[-0.26525903]\n",
      "[-0.79380781] []\n",
      "[-0.79380781]\n",
      "[-0.66611607] []\n",
      "[-0.66611607]\n",
      "[-0.87665396] []\n",
      "[-0.87665396]\n",
      "[-0.41878417] []\n",
      "[-0.41878417]\n",
      "[-0.79863199] []\n",
      "[-0.79863199]\n",
      "[-0.64931917] []\n",
      "[-0.64931917]\n",
      "[-0.83630331] []\n",
      "[-0.83630331]\n",
      "[-0.58394617] []\n",
      "[-0.58394617]\n",
      "[-0.92345121] []\n",
      "[-0.92345121]\n",
      "[-0.24355331] []\n",
      "[-0.24355331]\n",
      "[-0.75205586] []\n",
      "[-0.75205586]\n",
      "[-0.77566305] []\n",
      "[-0.77566305]\n",
      "[-0.5420732] []\n",
      "[-0.5420732]\n",
      "[-0.92532156] []\n",
      "[-0.92532156]\n",
      "[-0.19067414] []\n",
      "[-0.19067414]\n",
      "[-0.45221504] []\n",
      "[-0.45221504]\n",
      "[-0.97844971] []\n",
      "[-0.97844971]\n",
      "[-0.02172392] []\n",
      "[-0.02172392]\n",
      "[-0.08040404] []\n",
      "[-0.08040404]\n",
      "[-0.19183301] []\n",
      "[-0.19183301]\n",
      "[-0.56770759] []\n",
      "[-0.56770759]\n",
      "[-1.04832225] []\n",
      "[-1.04832225]\n",
      "[0.14303734] []\n",
      "[0.14303734]\n",
      "[0.52481903] []\n",
      "[0.52481903]\n",
      "[1.03531207] []\n",
      "[1.03531207]\n",
      "[-0.09059676] []\n",
      "[-0.09059676]\n",
      "[-0.27713592] []\n",
      "[-0.27713592]\n",
      "[-0.70609978] []\n",
      "[-0.70609978]\n",
      "[-0.75027224] []\n",
      "[-0.75027224]\n",
      "[-0.78231445] []\n",
      "[-0.78231445]\n",
      "[-0.6688047] []\n",
      "[-0.6688047]\n",
      "[-0.83103625] []\n",
      "[-0.83103625]\n",
      "[-0.48743906] []\n",
      "[-0.48743906]\n",
      "[-0.92828269] []\n",
      "[-0.92828269]\n",
      "[-0.24361819] []\n",
      "[-0.24361819]\n",
      "[-0.81381246] []\n",
      "[-0.81381246]\n",
      "[-0.56186748] []\n",
      "[-0.56186748]\n",
      "[-1.00191494] []\n",
      "[-1.00191494]\n",
      "[-0.05752244] []\n",
      "[-0.05752244]\n",
      "[-0.24934071] []\n",
      "[-0.24934071]\n",
      "[-0.69608409] []\n",
      "[-0.69608409]\n",
      "[-0.79088054] []\n",
      "[-0.79088054]\n",
      "[-0.63499915] []\n",
      "[-0.63499915]\n",
      "[-0.9514885] []\n",
      "[-0.9514885]\n",
      "[-0.10180645] []\n",
      "[-0.10180645]\n",
      "[-0.25989149] []\n",
      "[-0.25989149]\n",
      "[-0.75390115] []\n",
      "[-0.75390115]\n"
     ]
    }
   ],
   "source": [
    "output, true_hidden = d.generate_trajectory()"
   ]
  },
  {
   "cell_type": "code",
   "execution_count": 4,
   "metadata": {
    "collapsed": true
   },
   "outputs": [],
   "source": [
    "n_rbf = 20\n",
    "n_hidden = 1\n",
    "n_outputs = 3\n",
    "max_iter = 10"
   ]
  },
  {
   "cell_type": "code",
   "execution_count": 5,
   "metadata": {
    "collapsed": false
   },
   "outputs": [
    {
     "data": {
      "image/png": "[encoded data removed]",
      "text/plain": [
       "<matplotlib.figure.Figure at 0x7f093c431b70>"
      ]
     },
     "metadata": {},
     "output_type": "display_data"
    }
   ],
   "source": [
    "rbf_centers = np.linspace(-2,2,n_rbf).reshape(n_rbf,n_hidden)\n",
    "rbf_covs = np.array([np.eye(n_hidden) for i in range(n_rbf)])\n",
    "A = np.zeros((n_hidden,n_hidden))\n",
    "b = np.zeros(n_hidden) \n",
    "C = np.zeros((n_outputs,n_hidden))\n",
    "d = np.zeros(n_outputs)\n",
    "\n",
    "A = 0.1 * np.random.randn(n_hidden,n_hidden)\n",
    "b = 0.1 * np.random.randn(n_hidden) \n",
    "C = 0.1 * np.random.randn(n_outputs,n_hidden)\n",
    "d = 0.1 * np.random.randn(n_outputs)\n",
    "\n",
    "EM = EM_container(output, rbf_centers, rbf_covs, A, b, C, d)\n",
    "\n",
    "plt.figure(figsize = (10,10))\n",
    "plt.plot(true_hidden[:-1],true_hidden[1:],'o')\n",
    "plt.plot(np.linspace(-2,2,200),[EM.f_estimator(x)[0][0] for x in np.linspace(-2,2,200)])\n",
    "plt.show()"
   ]
  },
  {
   "cell_type": "code",
   "execution_count": 6,
   "metadata": {
    "collapsed": false,
    "scrolled": false
   },
   "outputs": [
    {
     "name": "stderr",
     "output_type": "stream",
     "text": [
      "100%|██████████| 10/10 [00:21<00:00,  2.12s/it]\n"
     ]
    }
   ],
   "source": [
    "for i in tqdm.tqdm(range(max_iter)):\n",
    "    EM.E_step()\n",
    "    EM.M_step()"
   ]
  },
  {
   "cell_type": "code",
   "execution_count": 7,
   "metadata": {
    "collapsed": false
   },
   "outputs": [
    {
     "data": {
      "image/png": "[encoded data removed]",
      "text/plain": [
       "<matplotlib.figure.Figure at 0x7fb54df1a710>"
      ]
     },
     "metadata": {},
     "output_type": "display_data"
    }
   ],
   "source": [
    "plt.figure(figsize = (10,10))\n",
    "plt.plot(true_hidden[:-1],true_hidden[1:],'o')\n",
    "plt.plot(np.linspace(-5,5,200),[EM.f_estimator(x)[0][0] for x in np.linspace(-5,5,200)])\n",
    "plt.show()"
   ]
  },
  {
   "cell_type": "code",
   "execution_count": null,
   "metadata": {
    "collapsed": true
   },
   "outputs": [],
   "source": []
  }
 ],
 "metadata": {
  "kernelspec": {
   "display_name": "Python 3",
   "language": "python",
   "name": "python3"
  },
  "language_info": {
   "codemirror_mode": {
    "name": "ipython",
    "version": 3
   },
   "file_extension": ".py",
   "mimetype": "text/x-python",
   "name": "python",
   "nbconvert_exporter": "python",
   "pygments_lexer": "ipython3",
   "version": "3.6.4"
  }
 },
 "nbformat": 4,
 "nbformat_minor": 2
}
